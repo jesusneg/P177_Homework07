{
 "cells": [
  {
   "cell_type": "markdown",
   "metadata": {},
   "source": [
    "# Homework 7: Markov Chain Monte Carlo\n",
    "\n",
    "Physics 177, Spring 2017 (Prof. Tanedo)  \n",
    "Due: Wednesday, May 31    \n",
    "\n",
    "This homework will be updated over the weekend with specific goals if people complete the Extra Credit below.\n",
    "\n",
    "*Jesus Negrete*"
   ]
  },
  {
   "cell_type": "markdown",
   "metadata": {
    "collapsed": true
   },
   "source": [
    "For this homework, please complete all of the example code that you were tasked with exploring during Professor Hai-Bo Yu's lecture on Thursday, May 25."
   ]
  },
  {
   "cell_type": "code",
   "execution_count": 4,
   "metadata": {
    "collapsed": false
   },
   "outputs": [],
   "source": [
    "from math import sqrt,exp\n",
    "from numpy import empty\n",
    "from random import random,randrange\n",
    "#from visual import sphere,curve,display"
   ]
  },
  {
   "cell_type": "code",
   "execution_count": 6,
   "metadata": {
    "collapsed": false
   },
   "outputs": [
    {
     "name": "stdout",
     "output_type": "stream",
     "text": [
      "[[ 0.78474789  0.93623229]\n",
      " [ 0.21083158  0.31494812]\n",
      " [ 0.67627103  0.05654642]\n",
      " [ 0.40625061  0.43024564]\n",
      " [ 0.92849001  0.76135834]\n",
      " [ 0.06758406  0.73260812]\n",
      " [ 0.7667478   0.32842665]\n",
      " [ 0.94744389  0.30021631]\n",
      " [ 0.78474789  0.93623229]]\n",
      "[[ 0.78474789  0.93623229]\n",
      " [ 0.92849001  0.76135834]\n",
      " [ 0.94744389  0.30021631]\n",
      " [ 0.7667478   0.32842665]\n",
      " [ 0.67627103  0.05654642]\n",
      " [ 0.40625061  0.43024564]\n",
      " [ 0.21083158  0.31494812]\n",
      " [ 0.06758406  0.73260812]\n",
      " [ 0.78474789  0.93623229]]\n"
     ]
    }
   ],
   "source": [
    "N= 8\n",
    "R =0.02\n",
    "Tmax = 10.0\n",
    "Tmin = 1e-3\n",
    "tau = 1e4\n",
    "def mag(x):\n",
    "    return sqrt(x[0]**2+x[1]**2)\n",
    "def distance():\n",
    "    s = 0.0\n",
    "    for i in range(N):\n",
    "        s += mag(r[i+1]-r[i])\n",
    "    return s\n",
    "r = empty([N+1,2],float)\n",
    "for i in range(N):\n",
    "    r[i,0] = random()\n",
    "    r[i,1] = random()\n",
    "r[N] = r[0]\n",
    "D =distance()\n",
    "\n",
    "#display(center=[0.5,0.5])\n",
    "#for i in range(N):\n",
    "#    sphere(pos=r[i],radius=R)\n",
    "#l = curve(pos=r,radius =R/2)\n",
    "\n",
    "t = 0\n",
    "T = Tmax\n",
    "print(r)\n",
    "while T>Tmin:\n",
    "    t += 1\n",
    "    T = Tmax*exp(-t/tau)\n",
    "    \n",
    "    #if t%100 ==0:\n",
    "     #   l.pos = r\n",
    "    \n",
    "    i,j = randrange(1,N),randrange(1,N)\n",
    "    while i ==j:\n",
    "        i,j = randrange(1,N),randrange(1,N)\n",
    "    oldD = D\n",
    "    r[i,0],r[j,0] = r[j,0],r[i,0]\n",
    "    r[i,1],r[j,1] = r[j,1],r[i,1]\n",
    "    D =distance()\n",
    "    deltaD = D - oldD\n",
    "    if random()>exp(-deltaD/T):\n",
    "        r[i,0],r[j,0] = r[j,0],r[i,0]\n",
    "        r[i,1],r[j,1] = r[j,1],r[i,1]\n",
    "        D=oldD\n",
    "print(r)"
   ]
  },
  {
   "cell_type": "markdown",
   "metadata": {},
   "source": [
    "## Extra credit\n",
    "\n",
    "** This extra credit is available to the first few to do this, due Saturday May 27 **\n",
    "\n",
    "For extra credit, enumerate the exercises required for this homework. In other words: fill in this problem set with specific questions.\n",
    "\n",
    "Assuming that you have forked the Homework 7 repository, upload the problem set (with no solutions yet) to your GitHub and initiate a **pull request**. This will send a notice to Prof. Tanedo to update the Homework 7 master branch for everyone. \n",
    "\n",
    "After you have done this, you may fill in the solutions to your problem set as usual. "
   ]
  },
  {
   "cell_type": "code",
   "execution_count": null,
   "metadata": {
    "collapsed": true
   },
   "outputs": [],
   "source": []
  }
 ],
 "metadata": {
  "kernelspec": {
   "display_name": "Python 3",
   "language": "python",
   "name": "python3"
  },
  "language_info": {
   "codemirror_mode": {
    "name": "ipython",
    "version": 3
   },
   "file_extension": ".py",
   "mimetype": "text/x-python",
   "name": "python",
   "nbconvert_exporter": "python",
   "pygments_lexer": "ipython3",
   "version": "3.6.0"
  }
 },
 "nbformat": 4,
 "nbformat_minor": 2
}
